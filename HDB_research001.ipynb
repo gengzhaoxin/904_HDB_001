{
 "cells": [
  {
   "cell_type": "markdown",
   "metadata": {},
   "source": [
    "<h1>Finding the perfect HDB Block in Singapore</h1>"
   ]
  },
  {
   "cell_type": "markdown",
   "metadata": {},
   "source": [
    "<h2>1. Introduction</h2>"
   ]
  },
  {
   "cell_type": "markdown",
   "metadata": {},
   "source": [
    "<p>Singapore is a very small but well-developed country in Southeast Asia. It has only one city, named Singapore, which has gained a reputation for holding first Trump-Kim Summit. Long before that, Singapore is always being a very international city where most regional headquarters for top 500 fortune companies are located. According to the report of Department of Statistics Singapore, the proportion of Singapore citizens in the total population is only 61.56% in 2018, and for Permanent Residents and foreigners, it is 9.26% and 29.16% respectively. For people moving to Singapore, settling down and finding the perfect place to live would be the first thing to be considered.</p>"
   ]
  },
  {
   "cell_type": "markdown",
   "metadata": {},
   "source": [
    "<p>However, the current property recommendation system in Singapore is not as perfect as it should be.  Generally speaking, if someone decides to live in a new place, before contacting a specific property agent, he or she should clearly know that which location is a preference, as different districts usually have different agents. This question is actually very difficult to be answered for residents in Singapore, especially those newcomer foreigners.  Singapore has no rural areas, and the mature communities always have convenient transportation and life facilities. If your work location is in the CBD like Raffles Place, even if you live in the westmost or east most areas of Singapore, it may only take an hour from your home to work place. If you can bear the distance for 30 minutes’ public transportation, you still have too many choices about where to live.  As a result, region factor cannot be in the first place to classify costumers in local property market. </p>"
   ]
  },
  {
   "cell_type": "markdown",
   "metadata": {},
   "source": [
    "<p>In this report, I try to build a new property recommendation system for local agents. I believe customers’ different needs on life-styles is beyond location preference in most cases in Singapore. For example, parents with young kids would take the distance to elite primary schools on as their priority, while foreign students and young employees maybe enjoy a rapid and modern life-style, and they might choose somewhere close to MRT, coffee shops and gyms.  So, I suggest we should firstly cluster properties types in the whole city (which is equal to the whole country) by differences of customers’ needs, then add that customers’ detailed preferences to decide which regions and what blocks are the best choice for them. Over eighty percent of Singapore residents choose to live in HDB (Housing and Development Board) blocks, and the data about those HDB blocks is very easy to get from government supported websites. As a result, I narrowed down my research scope, and focus on HDB only. </p>"
   ]
  },
  {
   "cell_type": "markdown",
   "metadata": {},
   "source": [
    "<h2>2. Data</h2>"
   ]
  },
  {
   "cell_type": "markdown",
   "metadata": {},
   "source": [
    "<p>The data includes three aspects.</p>"
   ]
  },
  {
   "cell_type": "markdown",
   "metadata": {},
   "source": [
    "<h4>2.1 HDB related data</h4>"
   ]
  },
  {
   "cell_type": "markdown",
   "metadata": {},
   "source": [
    "**Basic building features**"
   ]
  },
  {
   "cell_type": "markdown",
   "metadata": {},
   "source": [
    "<p>I got a data set about all the HDB blocks(12132 blocks in total) in Singpaore, from website \"https://data.gov.sg/\", which includes the block numbers, street names, flat areas, the built year and so on. I assumed that those blocks  standing in the same street and built in the same year have similar features,  and emerged them into a group. Eventually, I got 1570 block groups. As is shown(the first column shows the representive block of each group, the last column shows other similar blocks numbers that have the same street names): </p>"
   ]
  },
  {
   "cell_type": "code",
   "execution_count": 1,
   "metadata": {},
   "outputs": [
    {
     "data": {
      "text/html": [
       "<div>\n",
       "<style scoped>\n",
       "    .dataframe tbody tr th:only-of-type {\n",
       "        vertical-align: middle;\n",
       "    }\n",
       "\n",
       "    .dataframe tbody tr th {\n",
       "        vertical-align: top;\n",
       "    }\n",
       "\n",
       "    .dataframe thead th {\n",
       "        text-align: right;\n",
       "    }\n",
       "</style>\n",
       "<table border=\"1\" class=\"dataframe\">\n",
       "  <thead>\n",
       "    <tr style=\"text-align: right;\">\n",
       "      <th></th>\n",
       "      <th>blk_no</th>\n",
       "      <th>street</th>\n",
       "      <th>max_floor_lvl</th>\n",
       "      <th>year_completed</th>\n",
       "      <th>residential</th>\n",
       "      <th>commercial</th>\n",
       "      <th>market_hawker</th>\n",
       "      <th>miscellaneous</th>\n",
       "      <th>multistorey_carpark</th>\n",
       "      <th>precinct_pavilion</th>\n",
       "      <th>...</th>\n",
       "      <th>4room_sold</th>\n",
       "      <th>5room_sold</th>\n",
       "      <th>exec_sold</th>\n",
       "      <th>multigen_sold</th>\n",
       "      <th>studio_apartment_sold</th>\n",
       "      <th>1room_rental</th>\n",
       "      <th>2room_rental</th>\n",
       "      <th>3room_rental</th>\n",
       "      <th>other_room_rental</th>\n",
       "      <th>similar blocks</th>\n",
       "    </tr>\n",
       "  </thead>\n",
       "  <tbody>\n",
       "    <tr>\n",
       "      <th>0</th>\n",
       "      <td>469B</td>\n",
       "      <td>ADMIRALTY DR</td>\n",
       "      <td>16</td>\n",
       "      <td>1999</td>\n",
       "      <td>Y</td>\n",
       "      <td>N</td>\n",
       "      <td>N</td>\n",
       "      <td>N</td>\n",
       "      <td>N</td>\n",
       "      <td>N</td>\n",
       "      <td>...</td>\n",
       "      <td>72</td>\n",
       "      <td>48</td>\n",
       "      <td>54</td>\n",
       "      <td>0</td>\n",
       "      <td>0</td>\n",
       "      <td>0</td>\n",
       "      <td>0</td>\n",
       "      <td>0</td>\n",
       "      <td>0</td>\n",
       "      <td>356A,356B,356C,357,357A,357B,357C,359,359A,359...</td>\n",
       "    </tr>\n",
       "    <tr>\n",
       "      <th>1</th>\n",
       "      <td>467A</td>\n",
       "      <td>ADMIRALTY DR</td>\n",
       "      <td>16</td>\n",
       "      <td>2000</td>\n",
       "      <td>Y</td>\n",
       "      <td>Y</td>\n",
       "      <td>N</td>\n",
       "      <td>N</td>\n",
       "      <td>N</td>\n",
       "      <td>N</td>\n",
       "      <td>...</td>\n",
       "      <td>72</td>\n",
       "      <td>48</td>\n",
       "      <td>54</td>\n",
       "      <td>0</td>\n",
       "      <td>0</td>\n",
       "      <td>0</td>\n",
       "      <td>0</td>\n",
       "      <td>0</td>\n",
       "      <td>0</td>\n",
       "      <td>353A,353B,353C,354A,354B,354C,354D,467,467A</td>\n",
       "    </tr>\n",
       "    <tr>\n",
       "      <th>2</th>\n",
       "      <td>405</td>\n",
       "      <td>ADMIRALTY LINK</td>\n",
       "      <td>15</td>\n",
       "      <td>1999</td>\n",
       "      <td>Y</td>\n",
       "      <td>N</td>\n",
       "      <td>N</td>\n",
       "      <td>Y</td>\n",
       "      <td>N</td>\n",
       "      <td>N</td>\n",
       "      <td>...</td>\n",
       "      <td>112</td>\n",
       "      <td>0</td>\n",
       "      <td>0</td>\n",
       "      <td>0</td>\n",
       "      <td>0</td>\n",
       "      <td>0</td>\n",
       "      <td>0</td>\n",
       "      <td>0</td>\n",
       "      <td>0</td>\n",
       "      <td>401,402,403,404,405</td>\n",
       "    </tr>\n",
       "    <tr>\n",
       "      <th>3</th>\n",
       "      <td>485</td>\n",
       "      <td>ADMIRALTY LINK</td>\n",
       "      <td>16</td>\n",
       "      <td>2001</td>\n",
       "      <td>Y</td>\n",
       "      <td>N</td>\n",
       "      <td>N</td>\n",
       "      <td>N</td>\n",
       "      <td>N</td>\n",
       "      <td>N</td>\n",
       "      <td>...</td>\n",
       "      <td>154</td>\n",
       "      <td>0</td>\n",
       "      <td>0</td>\n",
       "      <td>0</td>\n",
       "      <td>0</td>\n",
       "      <td>0</td>\n",
       "      <td>0</td>\n",
       "      <td>0</td>\n",
       "      <td>0</td>\n",
       "      <td>484,485</td>\n",
       "    </tr>\n",
       "    <tr>\n",
       "      <th>4</th>\n",
       "      <td>493</td>\n",
       "      <td>ADMIRALTY LINK</td>\n",
       "      <td>21</td>\n",
       "      <td>2002</td>\n",
       "      <td>Y</td>\n",
       "      <td>N</td>\n",
       "      <td>N</td>\n",
       "      <td>N</td>\n",
       "      <td>N</td>\n",
       "      <td>N</td>\n",
       "      <td>...</td>\n",
       "      <td>82</td>\n",
       "      <td>59</td>\n",
       "      <td>0</td>\n",
       "      <td>0</td>\n",
       "      <td>0</td>\n",
       "      <td>0</td>\n",
       "      <td>0</td>\n",
       "      <td>0</td>\n",
       "      <td>0</td>\n",
       "      <td>486,491,492,493</td>\n",
       "    </tr>\n",
       "  </tbody>\n",
       "</table>\n",
       "<p>5 rows × 25 columns</p>\n",
       "</div>"
      ],
      "text/plain": [
       "  blk_no          street  max_floor_lvl  year_completed residential  \\\n",
       "0   469B    ADMIRALTY DR             16            1999           Y   \n",
       "1   467A    ADMIRALTY DR             16            2000           Y   \n",
       "2    405  ADMIRALTY LINK             15            1999           Y   \n",
       "3    485  ADMIRALTY LINK             16            2001           Y   \n",
       "4    493  ADMIRALTY LINK             21            2002           Y   \n",
       "\n",
       "  commercial market_hawker miscellaneous multistorey_carpark  \\\n",
       "0          N             N             N                   N   \n",
       "1          Y             N             N                   N   \n",
       "2          N             N             Y                   N   \n",
       "3          N             N             N                   N   \n",
       "4          N             N             N                   N   \n",
       "\n",
       "  precinct_pavilion  ... 4room_sold  5room_sold  exec_sold  multigen_sold  \\\n",
       "0                 N  ...         72          48         54              0   \n",
       "1                 N  ...         72          48         54              0   \n",
       "2                 N  ...        112           0          0              0   \n",
       "3                 N  ...        154           0          0              0   \n",
       "4                 N  ...         82          59          0              0   \n",
       "\n",
       "   studio_apartment_sold  1room_rental  2room_rental  3room_rental  \\\n",
       "0                      0             0             0             0   \n",
       "1                      0             0             0             0   \n",
       "2                      0             0             0             0   \n",
       "3                      0             0             0             0   \n",
       "4                      0             0             0             0   \n",
       "\n",
       "   other_room_rental                                     similar blocks  \n",
       "0                  0  356A,356B,356C,357,357A,357B,357C,359,359A,359...  \n",
       "1                  0        353A,353B,353C,354A,354B,354C,354D,467,467A  \n",
       "2                  0                                401,402,403,404,405  \n",
       "3                  0                                            484,485  \n",
       "4                  0                                    486,491,492,493  \n",
       "\n",
       "[5 rows x 25 columns]"
      ]
     },
     "execution_count": 1,
     "metadata": {},
     "output_type": "execute_result"
    }
   ],
   "source": [
    "import pandas as pd\n",
    "filename = \"simi_blocks.csv\"\n",
    "df = pd.read_csv(filename)\n",
    "df.head()"
   ]
  },
  {
   "cell_type": "markdown",
   "metadata": {},
   "source": [
    "**price feature**"
   ]
  },
  {
   "cell_type": "markdown",
   "metadata": {},
   "source": [
    "<p>Price is a very important factor for making decisions about renting or buying houses. However, the data set I got from the above webside didn't include the price feature. So, I decide to collect that kind of data from local property webside. and I chose the webside \"https://www.srx.com.sg/\", which is from SRX company. by inputing the street name and block number of a certain block, we can get a web page that shows a list of selling price details. I use the mean price from that list of blocks as our index</p> "
   ]
  },
  {
   "cell_type": "markdown",
   "metadata": {},
   "source": [
    "**location data**"
   ]
  },
  {
   "cell_type": "markdown",
   "metadata": {},
   "source": [
    "<p>Getting location data is a necessary in our report for two reasons. Firstly, by using location data of each block, we can get venue features from foursquare, the life styles reflected by venue features are very important for our analysis. Secondly, we can compute the distance between each block and other life facilities such as primary school.</p>\n",
    "<p>By using the package Geocoder in Python, I got the latitudes and longitudes of the 1570 representive blocks.Then I creat a map by adding the price index</p>"
   ]
  },
  {
   "cell_type": "markdown",
   "metadata": {},
   "source": [
    "![alt text][logo]\n",
    "\n",
    "[logo]:hdb_price_distribution.png \"selling prices map\""
   ]
  },
  {
   "cell_type": "markdown",
   "metadata": {},
   "source": [
    "**venue features**"
   ]
  },
  {
   "cell_type": "code",
   "execution_count": 21,
   "metadata": {},
   "outputs": [
    {
     "data": {
      "text/html": [
       "<div>\n",
       "<style scoped>\n",
       "    .dataframe tbody tr th:only-of-type {\n",
       "        vertical-align: middle;\n",
       "    }\n",
       "\n",
       "    .dataframe tbody tr th {\n",
       "        vertical-align: top;\n",
       "    }\n",
       "\n",
       "    .dataframe thead th {\n",
       "        text-align: right;\n",
       "    }\n",
       "</style>\n",
       "<table border=\"1\" class=\"dataframe\">\n",
       "  <thead>\n",
       "    <tr style=\"text-align: right;\">\n",
       "      <th></th>\n",
       "      <th>Unnamed: 0</th>\n",
       "      <th>block_street</th>\n",
       "      <th>Neighborhood Latitude</th>\n",
       "      <th>Neighborhood Longitude</th>\n",
       "      <th>Venue</th>\n",
       "      <th>Venue Latitude</th>\n",
       "      <th>Venue Longitude</th>\n",
       "      <th>Venue Category</th>\n",
       "    </tr>\n",
       "  </thead>\n",
       "  <tbody>\n",
       "    <tr>\n",
       "      <th>0</th>\n",
       "      <td>0</td>\n",
       "      <td>1A,CANTONMENT RD</td>\n",
       "      <td>1.27783</td>\n",
       "      <td>103.840953</td>\n",
       "      <td>Nylon Coffee Roasters</td>\n",
       "      <td>1.276657</td>\n",
       "      <td>103.840073</td>\n",
       "      <td>Coffee Shop</td>\n",
       "    </tr>\n",
       "    <tr>\n",
       "      <th>1</th>\n",
       "      <td>1</td>\n",
       "      <td>1A,CANTONMENT RD</td>\n",
       "      <td>1.27783</td>\n",
       "      <td>103.840953</td>\n",
       "      <td>Binomio Spanish Restaurante</td>\n",
       "      <td>1.277713</td>\n",
       "      <td>103.842248</td>\n",
       "      <td>Spanish Restaurant</td>\n",
       "    </tr>\n",
       "    <tr>\n",
       "      <th>2</th>\n",
       "      <td>2</td>\n",
       "      <td>1A,CANTONMENT RD</td>\n",
       "      <td>1.27783</td>\n",
       "      <td>103.840953</td>\n",
       "      <td>Man Man 鰻満 Japanese Unagi Restaurant (Man Man ...</td>\n",
       "      <td>1.278876</td>\n",
       "      <td>103.841514</td>\n",
       "      <td>Japanese Restaurant</td>\n",
       "    </tr>\n",
       "    <tr>\n",
       "      <th>3</th>\n",
       "      <td>3</td>\n",
       "      <td>1A,CANTONMENT RD</td>\n",
       "      <td>1.27783</td>\n",
       "      <td>103.840953</td>\n",
       "      <td>D.Bespoke</td>\n",
       "      <td>1.278680</td>\n",
       "      <td>103.840897</td>\n",
       "      <td>Speakeasy</td>\n",
       "    </tr>\n",
       "    <tr>\n",
       "      <th>4</th>\n",
       "      <td>4</td>\n",
       "      <td>1A,CANTONMENT RD</td>\n",
       "      <td>1.27783</td>\n",
       "      <td>103.840953</td>\n",
       "      <td>APIARY</td>\n",
       "      <td>1.279499</td>\n",
       "      <td>103.842294</td>\n",
       "      <td>Ice Cream Shop</td>\n",
       "    </tr>\n",
       "  </tbody>\n",
       "</table>\n",
       "</div>"
      ],
      "text/plain": [
       "   Unnamed: 0      block_street  Neighborhood Latitude  \\\n",
       "0           0  1A,CANTONMENT RD                1.27783   \n",
       "1           1  1A,CANTONMENT RD                1.27783   \n",
       "2           2  1A,CANTONMENT RD                1.27783   \n",
       "3           3  1A,CANTONMENT RD                1.27783   \n",
       "4           4  1A,CANTONMENT RD                1.27783   \n",
       "\n",
       "   Neighborhood Longitude                                              Venue  \\\n",
       "0              103.840953                              Nylon Coffee Roasters   \n",
       "1              103.840953                        Binomio Spanish Restaurante   \n",
       "2              103.840953  Man Man 鰻満 Japanese Unagi Restaurant (Man Man ...   \n",
       "3              103.840953                                          D.Bespoke   \n",
       "4              103.840953                                             APIARY   \n",
       "\n",
       "   Venue Latitude  Venue Longitude       Venue Category  \n",
       "0        1.276657       103.840073          Coffee Shop  \n",
       "1        1.277713       103.842248   Spanish Restaurant  \n",
       "2        1.278876       103.841514  Japanese Restaurant  \n",
       "3        1.278680       103.840897            Speakeasy  \n",
       "4        1.279499       103.842294       Ice Cream Shop  "
      ]
     },
     "execution_count": 21,
     "metadata": {},
     "output_type": "execute_result"
    }
   ],
   "source": [
    "filename3 = \"block_venues.csv\"\n",
    "df3 = pd.read_csv(filename3)\n",
    "df3.head()"
   ]
  },
  {
   "cell_type": "code",
   "execution_count": 22,
   "metadata": {},
   "outputs": [
    {
     "name": "stdout",
     "output_type": "stream",
     "text": [
      "There are 308 uniques categories.\n"
     ]
    }
   ],
   "source": [
    "print('There are {} uniques categories.'.format(len(df3['Venue Category'].unique())))"
   ]
  },
  {
   "cell_type": "markdown",
   "metadata": {},
   "source": [
    "<h4>2.2 Primary school related data</h4>"
   ]
  },
  {
   "cell_type": "markdown",
   "metadata": {},
   "source": [
    "<p>Singapore govenment claims that the primary school enrollment policy strictly obeys within 1 km and within 2 km standard. As a result, moving to a new place to get a higher chance in school enrollment is very common in Singapore. So I add the prmary school related data in my research</p>\n",
    "<p> We got the primary school list from webside, and by using geocoder package, got their locations as well.</p>"
   ]
  },
  {
   "cell_type": "code",
   "execution_count": 23,
   "metadata": {},
   "outputs": [
    {
     "data": {
      "text/html": [
       "<div>\n",
       "<style scoped>\n",
       "    .dataframe tbody tr th:only-of-type {\n",
       "        vertical-align: middle;\n",
       "    }\n",
       "\n",
       "    .dataframe tbody tr th {\n",
       "        vertical-align: top;\n",
       "    }\n",
       "\n",
       "    .dataframe thead th {\n",
       "        text-align: right;\n",
       "    }\n",
       "</style>\n",
       "<table border=\"1\" class=\"dataframe\">\n",
       "  <thead>\n",
       "    <tr style=\"text-align: right;\">\n",
       "      <th></th>\n",
       "      <th>name</th>\n",
       "      <th>latitude</th>\n",
       "      <th>longitude</th>\n",
       "    </tr>\n",
       "  </thead>\n",
       "  <tbody>\n",
       "    <tr>\n",
       "      <th>0</th>\n",
       "      <td>Anderson Primary School</td>\n",
       "      <td>1.376318</td>\n",
       "      <td>103.835562</td>\n",
       "    </tr>\n",
       "    <tr>\n",
       "      <th>1</th>\n",
       "      <td>Ang Mo Kio Primary School</td>\n",
       "      <td>1.369100</td>\n",
       "      <td>103.839360</td>\n",
       "    </tr>\n",
       "    <tr>\n",
       "      <th>2</th>\n",
       "      <td>CHIJ St Nicholas Girls’ (Primary)</td>\n",
       "      <td>1.340853</td>\n",
       "      <td>103.878447</td>\n",
       "    </tr>\n",
       "    <tr>\n",
       "      <th>3</th>\n",
       "      <td>Jing Shan Primary School</td>\n",
       "      <td>1.372258</td>\n",
       "      <td>103.852015</td>\n",
       "    </tr>\n",
       "    <tr>\n",
       "      <th>4</th>\n",
       "      <td>Mayflower Primary School</td>\n",
       "      <td>1.376664</td>\n",
       "      <td>103.843242</td>\n",
       "    </tr>\n",
       "  </tbody>\n",
       "</table>\n",
       "</div>"
      ],
      "text/plain": [
       "                                name  latitude   longitude\n",
       "0            Anderson Primary School  1.376318  103.835562\n",
       "1          Ang Mo Kio Primary School  1.369100  103.839360\n",
       "2  CHIJ St Nicholas Girls’ (Primary)  1.340853  103.878447\n",
       "3           Jing Shan Primary School  1.372258  103.852015\n",
       "4           Mayflower Primary School  1.376664  103.843242"
      ]
     },
     "execution_count": 23,
     "metadata": {},
     "output_type": "execute_result"
    }
   ],
   "source": [
    "filename4 = \"primary_school.csv\"\n",
    "df4 = pd.read_csv(filename4)\n",
    "df4.head()"
   ]
  },
  {
   "cell_type": "markdown",
   "metadata": {},
   "source": [
    "<h4>2.3 MindChamps preschools related data</h4>"
   ]
  },
  {
   "cell_type": "markdown",
   "metadata": {},
   "source": [
    "<p>MindChamps is a very famous preschool brand in local education system, and it is alse my favourate type. So I planned to explore further on choosing perfect block after clustering those HDB blocks and giving them different labels.</p>\n",
    "<p> This data set is not included in the cluster analysis</p>"
   ]
  },
  {
   "cell_type": "code",
   "execution_count": 24,
   "metadata": {},
   "outputs": [
    {
     "data": {
      "text/html": [
       "<div>\n",
       "<style scoped>\n",
       "    .dataframe tbody tr th:only-of-type {\n",
       "        vertical-align: middle;\n",
       "    }\n",
       "\n",
       "    .dataframe tbody tr th {\n",
       "        vertical-align: top;\n",
       "    }\n",
       "\n",
       "    .dataframe thead th {\n",
       "        text-align: right;\n",
       "    }\n",
       "</style>\n",
       "<table border=\"1\" class=\"dataframe\">\n",
       "  <thead>\n",
       "    <tr style=\"text-align: right;\">\n",
       "      <th></th>\n",
       "      <th>Unnamed: 0</th>\n",
       "      <th>name</th>\n",
       "      <th>address</th>\n",
       "      <th>centre_no</th>\n",
       "      <th>postal_code</th>\n",
       "      <th>address_0</th>\n",
       "      <th>latitude</th>\n",
       "      <th>longitude</th>\n",
       "    </tr>\n",
       "  </thead>\n",
       "  <tbody>\n",
       "    <tr>\n",
       "      <th>0</th>\n",
       "      <td>0</td>\n",
       "      <td>Boon Keng (Kallang)</td>\n",
       "      <td>30A Kallang Place, #01-01, Singapore 339213 (n...</td>\n",
       "      <td>6291 3068 /\\n8820 3118</td>\n",
       "      <td>339213</td>\n",
       "      <td>30A Kallang Place</td>\n",
       "      <td>1.314695</td>\n",
       "      <td>103.865767</td>\n",
       "    </tr>\n",
       "    <tr>\n",
       "      <th>1</th>\n",
       "      <td>1</td>\n",
       "      <td>City Square Mall</td>\n",
       "      <td>180 Kitchener Road, City Square Mall #07-01/05...</td>\n",
       "      <td>6834 4388</td>\n",
       "      <td>208539</td>\n",
       "      <td>180 Kitchener Road</td>\n",
       "      <td>1.311243</td>\n",
       "      <td>103.856577</td>\n",
       "    </tr>\n",
       "    <tr>\n",
       "      <th>2</th>\n",
       "      <td>2</td>\n",
       "      <td>Concorde Hotel (Orchard)</td>\n",
       "      <td>100 Orchard Road, #01-03C, Concorde Hotel &amp; Sh...</td>\n",
       "      <td>6235 2358 /\\n9665 3840</td>\n",
       "      <td>238840</td>\n",
       "      <td>100 Orchard Road</td>\n",
       "      <td>1.300618</td>\n",
       "      <td>103.842155</td>\n",
       "    </tr>\n",
       "    <tr>\n",
       "      <th>3</th>\n",
       "      <td>3</td>\n",
       "      <td>Liang Court</td>\n",
       "      <td>177 River Valley Road, Liang Court #05-01, Sin...</td>\n",
       "      <td>6338 3002 /\\n9114 2280</td>\n",
       "      <td>179030</td>\n",
       "      <td>177 River Valley Road</td>\n",
       "      <td>1.291575</td>\n",
       "      <td>103.845284</td>\n",
       "    </tr>\n",
       "    <tr>\n",
       "      <th>4</th>\n",
       "      <td>4</td>\n",
       "      <td>Paragon</td>\n",
       "      <td>290 Orchard Road, Paragon #06-19/20, Singapore...</td>\n",
       "      <td>6732 0087</td>\n",
       "      <td>238859</td>\n",
       "      <td>290 Orchard Road</td>\n",
       "      <td>1.303661</td>\n",
       "      <td>103.835366</td>\n",
       "    </tr>\n",
       "  </tbody>\n",
       "</table>\n",
       "</div>"
      ],
      "text/plain": [
       "   Unnamed: 0                      name  \\\n",
       "0           0       Boon Keng (Kallang)   \n",
       "1           1          City Square Mall   \n",
       "2           2  Concorde Hotel (Orchard)   \n",
       "3           3               Liang Court   \n",
       "4           4                   Paragon   \n",
       "\n",
       "                                             address               centre_no  \\\n",
       "0  30A Kallang Place, #01-01, Singapore 339213 (n...  6291 3068 /\\n8820 3118   \n",
       "1  180 Kitchener Road, City Square Mall #07-01/05...               6834 4388   \n",
       "2  100 Orchard Road, #01-03C, Concorde Hotel & Sh...  6235 2358 /\\n9665 3840   \n",
       "3  177 River Valley Road, Liang Court #05-01, Sin...  6338 3002 /\\n9114 2280   \n",
       "4  290 Orchard Road, Paragon #06-19/20, Singapore...               6732 0087   \n",
       "\n",
       "   postal_code              address_0  latitude   longitude  \n",
       "0       339213      30A Kallang Place  1.314695  103.865767  \n",
       "1       208539     180 Kitchener Road  1.311243  103.856577  \n",
       "2       238840       100 Orchard Road  1.300618  103.842155  \n",
       "3       179030  177 River Valley Road  1.291575  103.845284  \n",
       "4       238859       290 Orchard Road  1.303661  103.835366  "
      ]
     },
     "execution_count": 24,
     "metadata": {},
     "output_type": "execute_result"
    }
   ],
   "source": [
    "filename5 = \"mindchamps_info.csv\"\n",
    "df5 = pd.read_csv(filename5)\n",
    "df5.head()"
   ]
  },
  {
   "cell_type": "code",
   "execution_count": null,
   "metadata": {},
   "outputs": [],
   "source": []
  }
 ],
 "metadata": {
  "kernelspec": {
   "display_name": "Python 3",
   "language": "python",
   "name": "python3"
  },
  "language_info": {
   "codemirror_mode": {
    "name": "ipython",
    "version": 3
   },
   "file_extension": ".py",
   "mimetype": "text/x-python",
   "name": "python",
   "nbconvert_exporter": "python",
   "pygments_lexer": "ipython3",
   "version": "3.6.8"
  }
 },
 "nbformat": 4,
 "nbformat_minor": 2
}
